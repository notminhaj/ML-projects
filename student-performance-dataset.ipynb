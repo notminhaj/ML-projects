{
 "cells": [
  {
   "cell_type": "code",
   "execution_count": 1,
   "id": "916ef862",
   "metadata": {
    "_cell_guid": "b1076dfc-b9ad-4769-8c92-a6c4dae69d19",
    "_uuid": "8f2839f25d086af736a60e9eeb907d3b93b6e0e5",
    "execution": {
     "iopub.execute_input": "2024-08-05T07:06:59.957201Z",
     "iopub.status.busy": "2024-08-05T07:06:59.956768Z",
     "iopub.status.idle": "2024-08-05T07:07:01.043943Z",
     "shell.execute_reply": "2024-08-05T07:07:01.042545Z"
    },
    "papermill": {
     "duration": 1.095791,
     "end_time": "2024-08-05T07:07:01.046767",
     "exception": false,
     "start_time": "2024-08-05T07:06:59.950976",
     "status": "completed"
    },
    "tags": []
   },
   "outputs": [
    {
     "name": "stdout",
     "output_type": "stream",
     "text": [
      "/kaggle/input/students-performance-dataset/Student_performance_data _.csv\n"
     ]
    }
   ],
   "source": [
    "# This Python 3 environment comes with many helpful analytics libraries installed\n",
    "# It is defined by the kaggle/python Docker image: https://github.com/kaggle/docker-python\n",
    "# For example, here's several helpful packages to load\n",
    "\n",
    "import numpy as np # linear algebra\n",
    "import pandas as pd # data processing, CSV file I/O (e.g. pd.read_csv)\n",
    "\n",
    "# Input data files are available in the read-only \"../input/\" directory\n",
    "# For example, running this (by clicking run or pressing Shift+Enter) will list all files under the input directory\n",
    "\n",
    "import os\n",
    "for dirname, _, filenames in os.walk('/kaggle/input'):\n",
    "    for filename in filenames:\n",
    "        print(os.path.join(dirname, filename))\n",
    "\n",
    "# You can write up to 20GB to the current directory (/kaggle/working/) that gets preserved as output when you create a version using \"Save & Run All\" \n",
    "# You can also write temporary files to /kaggle/temp/, but they won't be saved outside of the current session"
   ]
  },
  {
   "cell_type": "code",
   "execution_count": 2,
   "id": "999311b4",
   "metadata": {
    "execution": {
     "iopub.execute_input": "2024-08-05T07:07:01.056619Z",
     "iopub.status.busy": "2024-08-05T07:07:01.056050Z",
     "iopub.status.idle": "2024-08-05T07:07:01.113941Z",
     "shell.execute_reply": "2024-08-05T07:07:01.112716Z"
    },
    "papermill": {
     "duration": 0.065835,
     "end_time": "2024-08-05T07:07:01.116709",
     "exception": false,
     "start_time": "2024-08-05T07:07:01.050874",
     "status": "completed"
    },
    "tags": []
   },
   "outputs": [
    {
     "data": {
      "text/html": [
       "<div>\n",
       "<style scoped>\n",
       "    .dataframe tbody tr th:only-of-type {\n",
       "        vertical-align: middle;\n",
       "    }\n",
       "\n",
       "    .dataframe tbody tr th {\n",
       "        vertical-align: top;\n",
       "    }\n",
       "\n",
       "    .dataframe thead th {\n",
       "        text-align: right;\n",
       "    }\n",
       "</style>\n",
       "<table border=\"1\" class=\"dataframe\">\n",
       "  <thead>\n",
       "    <tr style=\"text-align: right;\">\n",
       "      <th></th>\n",
       "      <th>StudentID</th>\n",
       "      <th>Age</th>\n",
       "      <th>Gender</th>\n",
       "      <th>Ethnicity</th>\n",
       "      <th>ParentalEducation</th>\n",
       "      <th>StudyTimeWeekly</th>\n",
       "      <th>Absences</th>\n",
       "      <th>Tutoring</th>\n",
       "      <th>ParentalSupport</th>\n",
       "      <th>Extracurricular</th>\n",
       "      <th>Sports</th>\n",
       "      <th>Music</th>\n",
       "      <th>Volunteering</th>\n",
       "      <th>GPA</th>\n",
       "      <th>GradeClass</th>\n",
       "    </tr>\n",
       "  </thead>\n",
       "  <tbody>\n",
       "    <tr>\n",
       "      <th>0</th>\n",
       "      <td>1001</td>\n",
       "      <td>17</td>\n",
       "      <td>1</td>\n",
       "      <td>0</td>\n",
       "      <td>2</td>\n",
       "      <td>19.833723</td>\n",
       "      <td>7</td>\n",
       "      <td>1</td>\n",
       "      <td>2</td>\n",
       "      <td>0</td>\n",
       "      <td>0</td>\n",
       "      <td>1</td>\n",
       "      <td>0</td>\n",
       "      <td>2.929196</td>\n",
       "      <td>2.0</td>\n",
       "    </tr>\n",
       "    <tr>\n",
       "      <th>1</th>\n",
       "      <td>1002</td>\n",
       "      <td>18</td>\n",
       "      <td>0</td>\n",
       "      <td>0</td>\n",
       "      <td>1</td>\n",
       "      <td>15.408756</td>\n",
       "      <td>0</td>\n",
       "      <td>0</td>\n",
       "      <td>1</td>\n",
       "      <td>0</td>\n",
       "      <td>0</td>\n",
       "      <td>0</td>\n",
       "      <td>0</td>\n",
       "      <td>3.042915</td>\n",
       "      <td>1.0</td>\n",
       "    </tr>\n",
       "    <tr>\n",
       "      <th>2</th>\n",
       "      <td>1003</td>\n",
       "      <td>15</td>\n",
       "      <td>0</td>\n",
       "      <td>2</td>\n",
       "      <td>3</td>\n",
       "      <td>4.210570</td>\n",
       "      <td>26</td>\n",
       "      <td>0</td>\n",
       "      <td>2</td>\n",
       "      <td>0</td>\n",
       "      <td>0</td>\n",
       "      <td>0</td>\n",
       "      <td>0</td>\n",
       "      <td>0.112602</td>\n",
       "      <td>4.0</td>\n",
       "    </tr>\n",
       "    <tr>\n",
       "      <th>3</th>\n",
       "      <td>1004</td>\n",
       "      <td>17</td>\n",
       "      <td>1</td>\n",
       "      <td>0</td>\n",
       "      <td>3</td>\n",
       "      <td>10.028829</td>\n",
       "      <td>14</td>\n",
       "      <td>0</td>\n",
       "      <td>3</td>\n",
       "      <td>1</td>\n",
       "      <td>0</td>\n",
       "      <td>0</td>\n",
       "      <td>0</td>\n",
       "      <td>2.054218</td>\n",
       "      <td>3.0</td>\n",
       "    </tr>\n",
       "    <tr>\n",
       "      <th>4</th>\n",
       "      <td>1005</td>\n",
       "      <td>17</td>\n",
       "      <td>1</td>\n",
       "      <td>0</td>\n",
       "      <td>2</td>\n",
       "      <td>4.672495</td>\n",
       "      <td>17</td>\n",
       "      <td>1</td>\n",
       "      <td>3</td>\n",
       "      <td>0</td>\n",
       "      <td>0</td>\n",
       "      <td>0</td>\n",
       "      <td>0</td>\n",
       "      <td>1.288061</td>\n",
       "      <td>4.0</td>\n",
       "    </tr>\n",
       "  </tbody>\n",
       "</table>\n",
       "</div>"
      ],
      "text/plain": [
       "   StudentID  Age  Gender  Ethnicity  ParentalEducation  StudyTimeWeekly  \\\n",
       "0       1001   17       1          0                  2        19.833723   \n",
       "1       1002   18       0          0                  1        15.408756   \n",
       "2       1003   15       0          2                  3         4.210570   \n",
       "3       1004   17       1          0                  3        10.028829   \n",
       "4       1005   17       1          0                  2         4.672495   \n",
       "\n",
       "   Absences  Tutoring  ParentalSupport  Extracurricular  Sports  Music  \\\n",
       "0         7         1                2                0       0      1   \n",
       "1         0         0                1                0       0      0   \n",
       "2        26         0                2                0       0      0   \n",
       "3        14         0                3                1       0      0   \n",
       "4        17         1                3                0       0      0   \n",
       "\n",
       "   Volunteering       GPA  GradeClass  \n",
       "0             0  2.929196         2.0  \n",
       "1             0  3.042915         1.0  \n",
       "2             0  0.112602         4.0  \n",
       "3             0  2.054218         3.0  \n",
       "4             0  1.288061         4.0  "
      ]
     },
     "execution_count": 2,
     "metadata": {},
     "output_type": "execute_result"
    }
   ],
   "source": [
    "data = pd.read_csv(\"/kaggle/input/students-performance-dataset/Student_performance_data _.csv\")\n",
    "data.head()"
   ]
  },
  {
   "cell_type": "code",
   "execution_count": 3,
   "id": "a700646f",
   "metadata": {
    "execution": {
     "iopub.execute_input": "2024-08-05T07:07:01.127132Z",
     "iopub.status.busy": "2024-08-05T07:07:01.126717Z",
     "iopub.status.idle": "2024-08-05T07:07:01.138749Z",
     "shell.execute_reply": "2024-08-05T07:07:01.137525Z"
    },
    "papermill": {
     "duration": 0.020652,
     "end_time": "2024-08-05T07:07:01.141774",
     "exception": false,
     "start_time": "2024-08-05T07:07:01.121122",
     "status": "completed"
    },
    "tags": []
   },
   "outputs": [],
   "source": [
    "y = data[\"GradeClass\"]\n",
    "data = data.drop([\"GradeClass\", \"GPA\", \"StudentID\"], axis=1)"
   ]
  },
  {
   "cell_type": "code",
   "execution_count": 4,
   "id": "0c8fd9f1",
   "metadata": {
    "execution": {
     "iopub.execute_input": "2024-08-05T07:07:01.152014Z",
     "iopub.status.busy": "2024-08-05T07:07:01.151606Z",
     "iopub.status.idle": "2024-08-05T07:07:03.618817Z",
     "shell.execute_reply": "2024-08-05T07:07:03.617337Z"
    },
    "papermill": {
     "duration": 2.475773,
     "end_time": "2024-08-05T07:07:03.621814",
     "exception": false,
     "start_time": "2024-08-05T07:07:01.146041",
     "status": "completed"
    },
    "tags": []
   },
   "outputs": [
    {
     "name": "stdout",
     "output_type": "stream",
     "text": [
      "0.7672851579236609\n",
      "4.0 4.0\n",
      "4.0 4.0\n",
      "4.0 4.0\n",
      "4.0 4.0\n",
      "2.0 2.0\n",
      "4.0 4.0\n",
      "4.0 4.0\n",
      "0.0 1.0\n",
      "2.0 3.0\n",
      "4.0 4.0\n"
     ]
    }
   ],
   "source": [
    "from sklearn.ensemble import RandomForestClassifier\n",
    "from sklearn.preprocessing import StandardScaler\n",
    "from sklearn.model_selection import train_test_split\n",
    "from sklearn.metrics import mean_squared_error\n",
    "\n",
    "#Standardizing the data\n",
    "scaler = StandardScaler()\n",
    "X = scaler.fit_transform(data)\n",
    "\n",
    "#Train test split\n",
    "X_train, X_test, y_train, y_test = train_test_split(X, y, test_size=0.2)\n",
    "\n",
    "#Applying random forest regressor\n",
    "rfc = RandomForestClassifier()\n",
    "model = rfc.fit(X_train, y_train)\n",
    "y_pred = model.predict(X_test)\n",
    "\n",
    "rmse = (mean_squared_error(y_test, y_pred))**0.5\n",
    "print(rmse)\n",
    "for i in range(0, 10):\n",
    "    print(y_test.iloc[i], y_pred[i])"
   ]
  },
  {
   "cell_type": "code",
   "execution_count": 5,
   "id": "2f420010",
   "metadata": {
    "execution": {
     "iopub.execute_input": "2024-08-05T07:07:03.632569Z",
     "iopub.status.busy": "2024-08-05T07:07:03.632135Z",
     "iopub.status.idle": "2024-08-05T07:07:05.771812Z",
     "shell.execute_reply": "2024-08-05T07:07:05.770494Z"
    },
    "papermill": {
     "duration": 2.148546,
     "end_time": "2024-08-05T07:07:05.774858",
     "exception": false,
     "start_time": "2024-08-05T07:07:03.626312",
     "status": "completed"
    },
    "tags": []
   },
   "outputs": [
    {
     "data": {
      "text/plain": [
       "array([0.69712794, 0.67101828, 0.70234987, 0.68586387, 0.71989529])"
      ]
     },
     "execution_count": 5,
     "metadata": {},
     "output_type": "execute_result"
    }
   ],
   "source": [
    "from sklearn.model_selection import cross_val_score\n",
    "cvs = cross_val_score(rfc, X_train, y_train)\n",
    "cvs"
   ]
  },
  {
   "cell_type": "code",
   "execution_count": 6,
   "id": "fcefc0ea",
   "metadata": {
    "execution": {
     "iopub.execute_input": "2024-08-05T07:07:05.785722Z",
     "iopub.status.busy": "2024-08-05T07:07:05.785289Z",
     "iopub.status.idle": "2024-08-05T07:07:05.805077Z",
     "shell.execute_reply": "2024-08-05T07:07:05.803784Z"
    },
    "papermill": {
     "duration": 0.029314,
     "end_time": "2024-08-05T07:07:05.808661",
     "exception": false,
     "start_time": "2024-08-05T07:07:05.779347",
     "status": "completed"
    },
    "tags": []
   },
   "outputs": [
    {
     "name": "stdout",
     "output_type": "stream",
     "text": [
      "              Feature     Score\n",
      "5            Absences  0.728633\n",
      "7     ParentalSupport -0.136823\n",
      "4     StudyTimeWeekly -0.134131\n",
      "6            Tutoring -0.111695\n",
      "8     Extracurricular -0.069733\n",
      "3   ParentalEducation  0.041031\n",
      "10              Music -0.036065\n",
      "9              Sports -0.026654\n",
      "2           Ethnicity -0.023326\n",
      "1              Gender  0.022998\n",
      "11       Volunteering  0.013156\n",
      "0                 Age -0.006250\n"
     ]
    }
   ],
   "source": [
    "#correlation\n",
    "corrScores = []\n",
    "for i in range(0,12):\n",
    "    r = np.corrcoef(X[:, i], y)\n",
    "    corrScores.append(r[0,1])\n",
    "    \n",
    "corrTable = pd.DataFrame({\"Feature\":data.columns, \"Score\":corrScores})\n",
    "\n",
    "# Sorting the DataFrame by the absolute value of the Score column\n",
    "corrTable = corrTable.reindex(corrTable['Score'].abs().sort_values(ascending=False).index)\n",
    "\n",
    "print(corrTable)"
   ]
  },
  {
   "cell_type": "code",
   "execution_count": 7,
   "id": "d9f7b723",
   "metadata": {
    "execution": {
     "iopub.execute_input": "2024-08-05T07:07:05.824667Z",
     "iopub.status.busy": "2024-08-05T07:07:05.822410Z",
     "iopub.status.idle": "2024-08-05T07:07:06.338475Z",
     "shell.execute_reply": "2024-08-05T07:07:06.337110Z"
    },
    "papermill": {
     "duration": 0.527646,
     "end_time": "2024-08-05T07:07:06.341702",
     "exception": false,
     "start_time": "2024-08-05T07:07:05.814056",
     "status": "completed"
    },
    "tags": []
   },
   "outputs": [
    {
     "data": {
      "text/plain": [
       "[]"
      ]
     },
     "execution_count": 7,
     "metadata": {},
     "output_type": "execute_result"
    },
    {
     "data": {
      "image/png": "[encoded data removed]",
      "text/plain": [
       "<Figure size 640x480 with 1 Axes>"
      ]
     },
     "metadata": {},
     "output_type": "display_data"
    }
   ],
   "source": [
    "# Graph it!\n",
    "import matplotlib.pyplot as plt\n",
    "plt.bar(corrTable[\"Feature\"], corrTable[\"Score\"].abs())\n",
    "plt.title(label=\"Factors affecting student grades\")\n",
    "plt.ylabel(ylabel=\"How much grades are affected\")\n",
    "plt.xlabel(xlabel=\"Factor\", size=35)\n",
    "plt.xticks(rotation=90, ha='right')\n",
    "plt.plot()"
   ]
  }
 ],
 "metadata": {
  "kaggle": {
   "accelerator": "none",
   "dataSources": [
    {
     "datasetId": 5195702,
     "sourceId": 8677630,
     "sourceType": "datasetVersion"
    }
   ],
   "dockerImageVersionId": 30746,
   "isGpuEnabled": false,
   "isInternetEnabled": true,
   "language": "python",
   "sourceType": "notebook"
  },
  "kernelspec": {
   "display_name": "Python 3",
   "language": "python",
   "name": "python3"
  },
  "language_info": {
   "codemirror_mode": {
    "name": "ipython",
    "version": 3
   },
   "file_extension": ".py",
   "mimetype": "text/x-python",
   "name": "python",
   "nbconvert_exporter": "python",
   "pygments_lexer": "ipython3",
   "version": "3.10.13"
  },
  "papermill": {
   "default_parameters": {},
   "duration": 10.443844,
   "end_time": "2024-08-05T07:07:07.069784",
   "environment_variables": {},
   "exception": null,
   "input_path": "__notebook__.ipynb",
   "output_path": "__notebook__.ipynb",
   "parameters": {},
   "start_time": "2024-08-05T07:06:56.625940",
   "version": "2.5.0"
  }
 },
 "nbformat": 4,
 "nbformat_minor": 5
}
